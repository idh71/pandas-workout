{
  "nbformat": 4,
  "nbformat_minor": 0,
  "metadata": {
    "colab": {
      "provenance": [],
      "authorship_tag": "ABX9TyMEu4bJRzcgX8wG2Tw3Dfn7",
      "include_colab_link": true
    },
    "kernelspec": {
      "name": "python3",
      "display_name": "Python 3"
    },
    "language_info": {
      "name": "python"
    }
  },
  "cells": [
    {
      "cell_type": "markdown",
      "metadata": {
        "id": "view-in-github",
        "colab_type": "text"
      },
      "source": [
        "<a href=\"https://colab.research.google.com/github/idh71/pandas-workout/blob/main/excercise_13.ipynb\" target=\"_parent\"><img src=\"https://colab.research.google.com/assets/colab-badge.svg\" alt=\"Open In Colab\"/></a>"
      ]
    },
    {
      "cell_type": "code",
      "execution_count": 52,
      "metadata": {
        "id": "WiJyD2xEj2EO"
      },
      "outputs": [],
      "source": [
        "import numpy as np\n",
        "import pandas as pd"
      ]
    },
    {
      "cell_type": "code",
      "source": [
        "s = pd.read_csv(\"/content/nyc-temps.txt\").squeeze()"
      ],
      "metadata": {
        "id": "krSEs2p7j9Ug"
      },
      "execution_count": 63,
      "outputs": []
    },
    {
      "cell_type": "markdown",
      "source": [],
      "metadata": {
        "id": "_BVzMUs1l3SU"
      }
    },
    {
      "cell_type": "code",
      "source": [
        "df  = pd.DataFrame({\"temp\": s,\n",
        "                   \"hour\": [0, 3, 6, 9, 12, 15, 18, 21] * 91})"
      ],
      "metadata": {
        "id": "VmavmNdWkpCY"
      },
      "execution_count": 64,
      "outputs": []
    },
    {
      "cell_type": "code",
      "source": [
        "# get the original mean and median\n",
        "real_mean_temp = df.temp.mean()\n",
        "real_mean_temp"
      ],
      "metadata": {
        "colab": {
          "base_uri": "https://localhost:8080/"
        },
        "id": "E4uurXPPpG7e",
        "outputId": "7bbacac1-f22f-4050-ac97-6906aac13b5c"
      },
      "execution_count": 65,
      "outputs": [
        {
          "output_type": "execute_result",
          "data": {
            "text/plain": [
              "-1.0508241758241759"
            ]
          },
          "metadata": {},
          "execution_count": 65
        }
      ]
    },
    {
      "cell_type": "code",
      "source": [
        "real_median_temp = df.temp.median()\n",
        "real_median_temp"
      ],
      "metadata": {
        "colab": {
          "base_uri": "https://localhost:8080/"
        },
        "id": "LmNLtuGkpdGS",
        "outputId": "bd411340-eac7-41ba-e689-161c33978603"
      },
      "execution_count": 66,
      "outputs": [
        {
          "output_type": "execute_result",
          "data": {
            "text/plain": [
              "0.0"
            ]
          },
          "metadata": {},
          "execution_count": 66
        }
      ]
    },
    {
      "cell_type": "code",
      "source": [
        "# simulate a failed sensor every day at 3 and 6 am\n",
        "df.loc[(df.hour == 3) | (df.hour == 6), 'temp'] = np.NaN"
      ],
      "metadata": {
        "id": "fzd77GTOljBE"
      },
      "execution_count": 67,
      "outputs": []
    },
    {
      "cell_type": "code",
      "source": [
        "# interpolate the temperatures\n",
        "df = df.interpolate()"
      ],
      "metadata": {
        "id": "7KFIkMBRnYUN"
      },
      "execution_count": 68,
      "outputs": []
    },
    {
      "cell_type": "code",
      "source": [
        "# get the new mean and median\n",
        "interpolated_mean_temp = df.temp.mean()\n",
        "interpolated_mean_temp"
      ],
      "metadata": {
        "colab": {
          "base_uri": "https://localhost:8080/"
        },
        "id": "LAPDdd91pu6C",
        "outputId": "6cccf73a-415b-418d-f550-a3183de594c4"
      },
      "execution_count": 69,
      "outputs": [
        {
          "output_type": "execute_result",
          "data": {
            "text/plain": [
              "-1.0508241758241759"
            ]
          },
          "metadata": {},
          "execution_count": 69
        }
      ]
    },
    {
      "cell_type": "code",
      "source": [
        "interpolated_median_temp = df.temp.median()\n",
        "interpolated_median_temp"
      ],
      "metadata": {
        "colab": {
          "base_uri": "https://localhost:8080/"
        },
        "id": "BZFY7KdFqPy1",
        "outputId": "fca1db8a-e6c7-4c72-c215-524bc0a50cb0"
      },
      "execution_count": 70,
      "outputs": [
        {
          "output_type": "execute_result",
          "data": {
            "text/plain": [
              "0.0"
            ]
          },
          "metadata": {},
          "execution_count": 70
        }
      ]
    },
    {
      "cell_type": "markdown",
      "source": [
        "So interpolating the missing values will result in the exact same mean and median values (at least in this case)"
      ],
      "metadata": {
        "id": "PMBzJSZgryT8"
      }
    },
    {
      "cell_type": "markdown",
      "source": [],
      "metadata": {
        "id": "K7qGzGAtru1D"
      }
    },
    {
      "cell_type": "code",
      "source": [],
      "metadata": {
        "id": "nbFGYRDfrmTF"
      },
      "execution_count": null,
      "outputs": []
    }
  ]
}